{
  "nbformat": 4,
  "nbformat_minor": 0,
  "metadata": {
    "colab": {
      "name": " IoT Devices - Time Series Plots",
      "provenance": [],
      "collapsed_sections": [],
      "include_colab_link": true
    },
    "kernelspec": {
      "name": "python3",
      "display_name": "Python 3"
    }
  },
  "cells": [
    {
      "cell_type": "markdown",
      "metadata": {
        "id": "view-in-github",
        "colab_type": "text"
      },
      "source": [
        "<a href=\"https://colab.research.google.com/github/Manreet10/IoT-Devices---Time-Series-Plots/blob/main/IoT_Devices_Time_Series_Plots.ipynb\" target=\"_parent\"><img src=\"https://colab.research.google.com/assets/colab-badge.svg\" alt=\"Open In Colab\"/></a>"
      ]
    },
    {
      "cell_type": "markdown",
      "metadata": {
        "id": "OocTROo-irrt"
      },
      "source": [
        "**IoT Devices - Time Series Plots**\n"
      ]
    },
    {
      "cell_type": "markdown",
      "metadata": {
        "id": "S0xajJgpY7jg"
      },
      "source": [
        "---"
      ]
    },
    {
      "cell_type": "markdown",
      "metadata": {
        "id": "JgXbJ-HoZCdZ"
      },
      "source": [
        "### Goal of the Project:\n",
        "\n",
        "This project is designed for :\n",
        "\n",
        " - The `datetime` module\n",
        " - Data Cleaning\n",
        " - Grouping and Aggregation\n",
        " - Customised `matplotlib` plots\n",
        " - Bivariate Bar Plots"
      ]
    },
    {
      "cell_type": "markdown",
      "metadata": {
        "id": "WDXMriICY8LS"
      },
      "source": [
        "---"
      ]
    },
    {
      "cell_type": "markdown",
      "metadata": {
        "id": "wOmN35jdQO68"
      },
      "source": [
        "### Context\n",
        "\n",
        "The **Internet of things (IoT)** describes the network of physical objects that are embedded with sensors, software, and other technologies to connect and exchange data with other devices and systems over the **Internet**. \n",
        " \n",
        "IoT devices have been around for quite a while now. They are used to collect data through different kinds of sensors such as **motion sensors**, **heat sensors**, **vibration sensors**, etc.\n",
        "\n",
        "A lot of people are using smartwatches and fitness watches to track their daily physical activities, calories burnt, average resting heart rates, and sleep cycle so that they lead a fit life. Such wearables are equipped with laser sensors to collect data.\n",
        "\n",
        "Heat Index (temperature + humidity) is one common data recorded on these IoT readers. The sensor reads hundreds to millions of data per second. There is a huge and versatile application of this data in real-world like agriculture, weather forecasting, soil monitoring and treatment, enterprise maintenance, and so on.\n",
        "\n",
        "Heat stress index of India:\n",
        "\n",
        "<img src='https://student-datasets-bucket.s3.ap-south-1.amazonaws.com/images/heat_index_india.png' width=600>\n"
      ]
    },
    {
      "cell_type": "markdown",
      "metadata": {
        "id": "DiBKzIYpWCzp"
      },
      "source": [
        "---"
      ]
    },
    {
      "cell_type": "markdown",
      "metadata": {
        "id": "zTSyVg4PqLI3"
      },
      "source": [
        "### Problem Statement\n",
        "\n",
        "Put yourself in the shoes of a quality analyst whose task is to test the efficacy of new IoT devices. You need to create time-series plots for daily temperature variation for the given duration and find any inconsistencies in the temperature readings (if there are any). \n",
        "\n",
        "In case the data collected through the device is correct, find the percentages of the yellow, orange, and red zones. "
      ]
    },
    {
      "cell_type": "markdown",
      "metadata": {
        "id": "5AyRRYmTR3N7"
      },
      "source": [
        "---"
      ]
    },
    {
      "cell_type": "markdown",
      "metadata": {
        "id": "OvuklseNQkid"
      },
      "source": [
        "### Dataset Information\n",
        "\n",
        "This dataset contains the temperature readings from an IoT device installed outside and inside of an anonymous room (labelled as admin room) to test the device. The readings were taken between 11 January 2018 and 10 December 2018. Additionally, it was uninstalled or taken down quite frequently during the entire reading period. \n",
        "\n",
        "There are 5 columns and 97,605 rows in the dataset. The columns are as follows:\n",
        "\n",
        "1. `id` - Unique IDs for each reading.\n",
        "\n",
        "2. `room_id/id` - Room id in which device was installed (inside and/or outside). In this dataset, only `Room Admin` label is used as a `room_id` for example purpose.\n",
        "\n",
        "3. `noted_date` - Date and time of reading.\n",
        "\n",
        "4. `temp` - Temperature readings.\n",
        "\n",
        "5. `out/in` - Whether the reading was taken from a device installed inside or outside of the room?\n",
        "\n",
        "Here's the dataset link:\n",
        "\n",
        "https://s3-student-datasets-bucket.whjr.online/whitehat-ds-datasets/iot-devices/IoT-device.csv"
      ]
    },
    {
      "cell_type": "markdown",
      "metadata": {
        "id": "wmta0mCwWB0e"
      },
      "source": [
        "---"
      ]
    },
    {
      "cell_type": "markdown",
      "metadata": {
        "id": "Djd0X9oJQogj"
      },
      "source": [
        "### Things To Do\n",
        "\n",
        "- What is the trend in the variation in daily indoor and outdoor temperatures?\n",
        "\n",
        "- What is the trend in the variation in monthly median indoor and outdoor temperatures?\n",
        "\n",
        "- Find out the hottest and coldest month(s).\n",
        "\n",
        "- Find the maximum and minimum temperatures recorded for each month."
      ]
    },
    {
      "cell_type": "markdown",
      "metadata": {
        "id": "1_0f8iFLVzir"
      },
      "source": [
        "---"
      ]
    },
    {
      "cell_type": "markdown",
      "metadata": {
        "id": "vqCHyy1ge9PP"
      },
      "source": [
        "## Specific Tasks to Achieve the Main Goal:"
      ]
    },
    {
      "cell_type": "code",
      "metadata": {
        "id": "Y62VnVV3SjwN",
        "colab": {
          "base_uri": "https://localhost:8080/",
          "height": 204
        },
        "outputId": "4f7fedb3-3569-46a3-8504-a40f1f3382d7"
      },
      "source": [
        "# Import the required modules and load the dataset.\n",
        "import datetime as dt\n",
        "import pandas as pd\n",
        "import numpy as np\n",
        "import matplotlib.pyplot as plt\n",
        "\n",
        "\n",
        "# Dataset link = 'https://s3-student-datasets-bucket.whjr.online/whitehat-ds-datasets/iot-devices/IoT-device.csv'\n",
        "link = \"https://s3-student-datasets-bucket.whjr.online/whitehat-ds-datasets/iot-devices/IoT-device.csv\"\n",
        "df = pd.read_csv(link)\n",
        "df.head()"
      ],
      "execution_count": null,
      "outputs": [
        {
          "output_type": "execute_result",
          "data": {
            "text/html": [
              "<div>\n",
              "<style scoped>\n",
              "    .dataframe tbody tr th:only-of-type {\n",
              "        vertical-align: middle;\n",
              "    }\n",
              "\n",
              "    .dataframe tbody tr th {\n",
              "        vertical-align: top;\n",
              "    }\n",
              "\n",
              "    .dataframe thead th {\n",
              "        text-align: right;\n",
              "    }\n",
              "</style>\n",
              "<table border=\"1\" class=\"dataframe\">\n",
              "  <thead>\n",
              "    <tr style=\"text-align: right;\">\n",
              "      <th></th>\n",
              "      <th>id</th>\n",
              "      <th>room_id/id</th>\n",
              "      <th>noted_date</th>\n",
              "      <th>temp</th>\n",
              "      <th>out/in</th>\n",
              "    </tr>\n",
              "  </thead>\n",
              "  <tbody>\n",
              "    <tr>\n",
              "      <th>0</th>\n",
              "      <td>__export__.temp_log_196134_bd201015</td>\n",
              "      <td>Room Admin</td>\n",
              "      <td>08-12-2018 09:30</td>\n",
              "      <td>29</td>\n",
              "      <td>In</td>\n",
              "    </tr>\n",
              "    <tr>\n",
              "      <th>1</th>\n",
              "      <td>__export__.temp_log_196131_7bca51bc</td>\n",
              "      <td>Room Admin</td>\n",
              "      <td>08-12-2018 09:30</td>\n",
              "      <td>29</td>\n",
              "      <td>In</td>\n",
              "    </tr>\n",
              "    <tr>\n",
              "      <th>2</th>\n",
              "      <td>__export__.temp_log_196127_522915e3</td>\n",
              "      <td>Room Admin</td>\n",
              "      <td>08-12-2018 09:29</td>\n",
              "      <td>41</td>\n",
              "      <td>Out</td>\n",
              "    </tr>\n",
              "    <tr>\n",
              "      <th>3</th>\n",
              "      <td>__export__.temp_log_196128_be0919cf</td>\n",
              "      <td>Room Admin</td>\n",
              "      <td>08-12-2018 09:29</td>\n",
              "      <td>41</td>\n",
              "      <td>Out</td>\n",
              "    </tr>\n",
              "    <tr>\n",
              "      <th>4</th>\n",
              "      <td>__export__.temp_log_196126_d30b72fb</td>\n",
              "      <td>Room Admin</td>\n",
              "      <td>08-12-2018 09:29</td>\n",
              "      <td>31</td>\n",
              "      <td>In</td>\n",
              "    </tr>\n",
              "  </tbody>\n",
              "</table>\n",
              "</div>"
            ],
            "text/plain": [
              "                                    id  room_id/id  ... temp  out/in\n",
              "0  __export__.temp_log_196134_bd201015  Room Admin  ...   29      In\n",
              "1  __export__.temp_log_196131_7bca51bc  Room Admin  ...   29      In\n",
              "2  __export__.temp_log_196127_522915e3  Room Admin  ...   41     Out\n",
              "3  __export__.temp_log_196128_be0919cf  Room Admin  ...   41     Out\n",
              "4  __export__.temp_log_196126_d30b72fb  Room Admin  ...   31      In\n",
              "\n",
              "[5 rows x 5 columns]"
            ]
          },
          "metadata": {},
          "execution_count": 3
        }
      ]
    },
    {
      "cell_type": "code",
      "metadata": {
        "id": "2eDUrqpvTIZv",
        "colab": {
          "base_uri": "https://localhost:8080/"
        },
        "outputId": "f17a25a3-b1dc-4095-884c-3bcfa81f307e"
      },
      "source": [
        "# Get the information of DataFrame using the 'info()' function.\n",
        "df.info()"
      ],
      "execution_count": null,
      "outputs": [
        {
          "output_type": "stream",
          "name": "stdout",
          "text": [
            "<class 'pandas.core.frame.DataFrame'>\n",
            "RangeIndex: 97606 entries, 0 to 97605\n",
            "Data columns (total 5 columns):\n",
            " #   Column      Non-Null Count  Dtype \n",
            "---  ------      --------------  ----- \n",
            " 0   id          97606 non-null  object\n",
            " 1   room_id/id  97606 non-null  object\n",
            " 2   noted_date  97606 non-null  object\n",
            " 3   temp        97606 non-null  int64 \n",
            " 4   out/in      97606 non-null  object\n",
            "dtypes: int64(1), object(4)\n",
            "memory usage: 3.7+ MB\n"
          ]
        }
      ]
    },
    {
      "cell_type": "markdown",
      "metadata": {
        "id": "EWiqsKkOnT7J"
      },
      "source": [
        "---"
      ]
    },
    {
      "cell_type": "markdown",
      "metadata": {
        "id": "wmUC8gulmsu8"
      },
      "source": [
        "#### 2. Missing Values Check\n",
        "\n"
      ]
    },
    {
      "cell_type": "code",
      "metadata": {
        "id": "jn-YY72GnaGz",
        "colab": {
          "base_uri": "https://localhost:8080/"
        },
        "outputId": "6fc3e785-b309-4a93-9bba-c519807a1712"
      },
      "source": [
        "# The null values in DataFrame are checked using the 'isnull()' function.\n",
        "df.isnull().sum()"
      ],
      "execution_count": null,
      "outputs": [
        {
          "output_type": "execute_result",
          "data": {
            "text/plain": [
              "id            0\n",
              "room_id/id    0\n",
              "noted_date    0\n",
              "temp          0\n",
              "out/in        0\n",
              "dtype: int64"
            ]
          },
          "metadata": {},
          "execution_count": 5
        }
      ]
    },
    {
      "cell_type": "markdown",
      "metadata": {
        "id": "-gNsMM1pn4Dl"
      },
      "source": [
        "---"
      ]
    },
    {
      "cell_type": "markdown",
      "metadata": {
        "id": "rLDsqxRtn2Td"
      },
      "source": [
        "#### 3. Drop Unnecessary Columns\n",
        "\n",
        "\n"
      ]
    },
    {
      "cell_type": "code",
      "metadata": {
        "id": "vWdxA_1KStHT"
      },
      "source": [
        "# Drop the unnecessary columns from the DataFrame. \n",
        "df = df.drop(['id','room_id/id'],axis=1)"
      ],
      "execution_count": null,
      "outputs": []
    },
    {
      "cell_type": "markdown",
      "metadata": {
        "id": "7fVWyg-noVyy"
      },
      "source": [
        "---"
      ]
    },
    {
      "cell_type": "markdown",
      "metadata": {
        "id": "iRyZRBgBoXEj"
      },
      "source": [
        "#### 4. Get `datetime` Objects\n",
        "\n",
        "Convert the values contained in the `noted_date` column into the `datetime` objects."
      ]
    },
    {
      "cell_type": "code",
      "metadata": {
        "id": "WYSZvAx7S_JE"
      },
      "source": [
        "# The values contained in the 'noted_date' column are coverted into the 'datetime' objects.\n",
        "df['noted_date'] = pd.to_datetime(df['noted_date'])"
      ],
      "execution_count": null,
      "outputs": []
    },
    {
      "cell_type": "code",
      "metadata": {
        "id": "oc7F-m5TTKbZ",
        "colab": {
          "base_uri": "https://localhost:8080/"
        },
        "outputId": "aeaa371b-b59a-4c9d-9143-4b79afc398e1"
      },
      "source": [
        "# Verify whether the conversion is successful or not.\n",
        "df.info()"
      ],
      "execution_count": null,
      "outputs": [
        {
          "output_type": "stream",
          "name": "stdout",
          "text": [
            "<class 'pandas.core.frame.DataFrame'>\n",
            "RangeIndex: 97606 entries, 0 to 97605\n",
            "Data columns (total 3 columns):\n",
            " #   Column      Non-Null Count  Dtype         \n",
            "---  ------      --------------  -----         \n",
            " 0   noted_date  97606 non-null  datetime64[ns]\n",
            " 1   temp        97606 non-null  int64         \n",
            " 2   out/in      97606 non-null  object        \n",
            "dtypes: datetime64[ns](1), int64(1), object(1)\n",
            "memory usage: 2.2+ MB\n"
          ]
        }
      ]
    },
    {
      "cell_type": "markdown",
      "metadata": {
        "id": "Dt2AYygJo_VV"
      },
      "source": [
        "---"
      ]
    },
    {
      "cell_type": "markdown",
      "metadata": {
        "id": "PRvYhIdro_84"
      },
      "source": [
        "#### 5. Sort The DataFrame\n",
        "\n",
        "Sort the DataFrame in the chronological order."
      ]
    },
    {
      "cell_type": "code",
      "metadata": {
        "id": "mO9zU3_Oaent",
        "colab": {
          "base_uri": "https://localhost:8080/",
          "height": 419
        },
        "outputId": "0989c768-8a41-4511-9100-e32f617016c0"
      },
      "source": [
        "# Sort the DataFrame in the increasing order of dates and time.\n",
        "df.sort_values('noted_date',ascending=True)"
      ],
      "execution_count": null,
      "outputs": [
        {
          "output_type": "execute_result",
          "data": {
            "text/html": [
              "<div>\n",
              "<style scoped>\n",
              "    .dataframe tbody tr th:only-of-type {\n",
              "        vertical-align: middle;\n",
              "    }\n",
              "\n",
              "    .dataframe tbody tr th {\n",
              "        vertical-align: top;\n",
              "    }\n",
              "\n",
              "    .dataframe thead th {\n",
              "        text-align: right;\n",
              "    }\n",
              "</style>\n",
              "<table border=\"1\" class=\"dataframe\">\n",
              "  <thead>\n",
              "    <tr style=\"text-align: right;\">\n",
              "      <th></th>\n",
              "      <th>noted_date</th>\n",
              "      <th>temp</th>\n",
              "      <th>out/in</th>\n",
              "    </tr>\n",
              "  </thead>\n",
              "  <tbody>\n",
              "    <tr>\n",
              "      <th>16218</th>\n",
              "      <td>2018-01-11 00:06:00</td>\n",
              "      <td>32</td>\n",
              "      <td>In</td>\n",
              "    </tr>\n",
              "    <tr>\n",
              "      <th>16217</th>\n",
              "      <td>2018-01-11 00:07:00</td>\n",
              "      <td>40</td>\n",
              "      <td>Out</td>\n",
              "    </tr>\n",
              "    <tr>\n",
              "      <th>16216</th>\n",
              "      <td>2018-01-11 00:09:00</td>\n",
              "      <td>39</td>\n",
              "      <td>Out</td>\n",
              "    </tr>\n",
              "    <tr>\n",
              "      <th>16215</th>\n",
              "      <td>2018-01-11 00:13:00</td>\n",
              "      <td>40</td>\n",
              "      <td>Out</td>\n",
              "    </tr>\n",
              "    <tr>\n",
              "      <th>16214</th>\n",
              "      <td>2018-01-11 00:23:00</td>\n",
              "      <td>40</td>\n",
              "      <td>Out</td>\n",
              "    </tr>\n",
              "    <tr>\n",
              "      <th>...</th>\n",
              "      <td>...</td>\n",
              "      <td>...</td>\n",
              "      <td>...</td>\n",
              "    </tr>\n",
              "    <tr>\n",
              "      <th>50668</th>\n",
              "      <td>2018-12-10 23:41:00</td>\n",
              "      <td>44</td>\n",
              "      <td>Out</td>\n",
              "    </tr>\n",
              "    <tr>\n",
              "      <th>50667</th>\n",
              "      <td>2018-12-10 23:43:00</td>\n",
              "      <td>44</td>\n",
              "      <td>Out</td>\n",
              "    </tr>\n",
              "    <tr>\n",
              "      <th>50666</th>\n",
              "      <td>2018-12-10 23:49:00</td>\n",
              "      <td>44</td>\n",
              "      <td>Out</td>\n",
              "    </tr>\n",
              "    <tr>\n",
              "      <th>50665</th>\n",
              "      <td>2018-12-10 23:51:00</td>\n",
              "      <td>45</td>\n",
              "      <td>Out</td>\n",
              "    </tr>\n",
              "    <tr>\n",
              "      <th>50664</th>\n",
              "      <td>2018-12-10 23:55:00</td>\n",
              "      <td>44</td>\n",
              "      <td>Out</td>\n",
              "    </tr>\n",
              "  </tbody>\n",
              "</table>\n",
              "<p>97606 rows × 3 columns</p>\n",
              "</div>"
            ],
            "text/plain": [
              "               noted_date  temp out/in\n",
              "16218 2018-01-11 00:06:00    32     In\n",
              "16217 2018-01-11 00:07:00    40    Out\n",
              "16216 2018-01-11 00:09:00    39    Out\n",
              "16215 2018-01-11 00:13:00    40    Out\n",
              "16214 2018-01-11 00:23:00    40    Out\n",
              "...                   ...   ...    ...\n",
              "50668 2018-12-10 23:41:00    44    Out\n",
              "50667 2018-12-10 23:43:00    44    Out\n",
              "50666 2018-12-10 23:49:00    44    Out\n",
              "50665 2018-12-10 23:51:00    45    Out\n",
              "50664 2018-12-10 23:55:00    44    Out\n",
              "\n",
              "[97606 rows x 3 columns]"
            ]
          },
          "metadata": {},
          "execution_count": 9
        }
      ]
    },
    {
      "cell_type": "markdown",
      "metadata": {
        "id": "Eipd1aBBpNve"
      },
      "source": [
        "---"
      ]
    },
    {
      "cell_type": "markdown",
      "metadata": {
        "id": "Szh550y0pOWL"
      },
      "source": [
        "#### 6. Add More Features\n",
        "\n",
        "Get the year, month, day, day name, hours, and minutes values from the `datetime` values and create new columns for the same."
      ]
    },
    {
      "cell_type": "code",
      "metadata": {
        "id": "YESR-mc8TLYW"
      },
      "source": [
        "# Create new columns for year, month, day, day name, hours and minutes values and add to the DataFrame.\n",
        "year_col = df['noted_date'].dt.year\n",
        "month_col = df['noted_date'].dt.month\n",
        "day_col = df['noted_date'].dt.day\n",
        "day_name_col = df['noted_date'].dt.day_name()\n",
        "minutes_col = df['noted_date'].dt.minute\n",
        "hour_col = df['noted_date'].dt.hour\n",
        "#adding:\n",
        "df['YEAR'] = year_col\n",
        "df['MONTH'] = month_col\n",
        "df['DAY'] = day_col\n",
        "df['DAY_NAME'] = day_name_col\n",
        "df['MINUTES'] = minutes_col\n",
        "df['HOUR'] = hour_col"
      ],
      "execution_count": null,
      "outputs": []
    },
    {
      "cell_type": "code",
      "metadata": {
        "id": "Fw5rt9R_TW5i",
        "colab": {
          "base_uri": "https://localhost:8080/",
          "height": 204
        },
        "outputId": "82b69d9f-1f73-4107-d6a8-476ec5d3e300"
      },
      "source": [
        "# Display the first five rows of the DataFrame.\n",
        "df.head()"
      ],
      "execution_count": null,
      "outputs": [
        {
          "output_type": "execute_result",
          "data": {
            "text/html": [
              "<div>\n",
              "<style scoped>\n",
              "    .dataframe tbody tr th:only-of-type {\n",
              "        vertical-align: middle;\n",
              "    }\n",
              "\n",
              "    .dataframe tbody tr th {\n",
              "        vertical-align: top;\n",
              "    }\n",
              "\n",
              "    .dataframe thead th {\n",
              "        text-align: right;\n",
              "    }\n",
              "</style>\n",
              "<table border=\"1\" class=\"dataframe\">\n",
              "  <thead>\n",
              "    <tr style=\"text-align: right;\">\n",
              "      <th></th>\n",
              "      <th>noted_date</th>\n",
              "      <th>temp</th>\n",
              "      <th>out/in</th>\n",
              "      <th>YEAR</th>\n",
              "      <th>MONTH</th>\n",
              "      <th>DAY</th>\n",
              "      <th>DAY_NAME</th>\n",
              "      <th>MINUTES</th>\n",
              "      <th>HOUR</th>\n",
              "    </tr>\n",
              "  </thead>\n",
              "  <tbody>\n",
              "    <tr>\n",
              "      <th>0</th>\n",
              "      <td>2018-08-12 09:30:00</td>\n",
              "      <td>29</td>\n",
              "      <td>In</td>\n",
              "      <td>2018</td>\n",
              "      <td>8</td>\n",
              "      <td>12</td>\n",
              "      <td>Sunday</td>\n",
              "      <td>30</td>\n",
              "      <td>9</td>\n",
              "    </tr>\n",
              "    <tr>\n",
              "      <th>1</th>\n",
              "      <td>2018-08-12 09:30:00</td>\n",
              "      <td>29</td>\n",
              "      <td>In</td>\n",
              "      <td>2018</td>\n",
              "      <td>8</td>\n",
              "      <td>12</td>\n",
              "      <td>Sunday</td>\n",
              "      <td>30</td>\n",
              "      <td>9</td>\n",
              "    </tr>\n",
              "    <tr>\n",
              "      <th>2</th>\n",
              "      <td>2018-08-12 09:29:00</td>\n",
              "      <td>41</td>\n",
              "      <td>Out</td>\n",
              "      <td>2018</td>\n",
              "      <td>8</td>\n",
              "      <td>12</td>\n",
              "      <td>Sunday</td>\n",
              "      <td>29</td>\n",
              "      <td>9</td>\n",
              "    </tr>\n",
              "    <tr>\n",
              "      <th>3</th>\n",
              "      <td>2018-08-12 09:29:00</td>\n",
              "      <td>41</td>\n",
              "      <td>Out</td>\n",
              "      <td>2018</td>\n",
              "      <td>8</td>\n",
              "      <td>12</td>\n",
              "      <td>Sunday</td>\n",
              "      <td>29</td>\n",
              "      <td>9</td>\n",
              "    </tr>\n",
              "    <tr>\n",
              "      <th>4</th>\n",
              "      <td>2018-08-12 09:29:00</td>\n",
              "      <td>31</td>\n",
              "      <td>In</td>\n",
              "      <td>2018</td>\n",
              "      <td>8</td>\n",
              "      <td>12</td>\n",
              "      <td>Sunday</td>\n",
              "      <td>29</td>\n",
              "      <td>9</td>\n",
              "    </tr>\n",
              "  </tbody>\n",
              "</table>\n",
              "</div>"
            ],
            "text/plain": [
              "           noted_date  temp out/in  YEAR  MONTH  DAY DAY_NAME  MINUTES  HOUR\n",
              "0 2018-08-12 09:30:00    29     In  2018      8   12   Sunday       30     9\n",
              "1 2018-08-12 09:30:00    29     In  2018      8   12   Sunday       30     9\n",
              "2 2018-08-12 09:29:00    41    Out  2018      8   12   Sunday       29     9\n",
              "3 2018-08-12 09:29:00    41    Out  2018      8   12   Sunday       29     9\n",
              "4 2018-08-12 09:29:00    31     In  2018      8   12   Sunday       29     9"
            ]
          },
          "metadata": {},
          "execution_count": 11
        }
      ]
    },
    {
      "cell_type": "markdown",
      "metadata": {
        "id": "hrkRuMQ7tbEd"
      },
      "source": [
        "---"
      ]
    },
    {
      "cell_type": "markdown",
      "metadata": {
        "id": "4mxjGIHQtkl4"
      },
      "source": [
        "#### 7. Line Plots and Box Plots\n",
        "\n",
        "Create line plots and box plots for the temperature recorded in the indoor and outdoor settings."
      ]
    },
    {
      "cell_type": "code",
      "metadata": {
        "id": "v4WEDxIbZjcW",
        "colab": {
          "base_uri": "https://localhost:8080/"
        },
        "outputId": "c5bdca3e-1db4-47d1-a1f6-c310e885b9fd"
      },
      "source": [
        "# Create a DataFrame for the indoor temperature records using 'df[df['out/in'] == 'In']'.\n",
        "indoor_temp = df[df['out/in'] == 'In']\n",
        "print(indoor_temp.head())"
      ],
      "execution_count": null,
      "outputs": [
        {
          "output_type": "stream",
          "name": "stdout",
          "text": [
            "           noted_date  temp out/in  YEAR  MONTH  DAY DAY_NAME  MINUTES  HOUR\n",
            "0 2018-08-12 09:30:00    29     In  2018      8   12   Sunday       30     9\n",
            "1 2018-08-12 09:30:00    29     In  2018      8   12   Sunday       30     9\n",
            "4 2018-08-12 09:29:00    31     In  2018      8   12   Sunday       29     9\n",
            "5 2018-08-12 09:29:00    31     In  2018      8   12   Sunday       29     9\n",
            "6 2018-08-12 09:28:00    29     In  2018      8   12   Sunday       28     9\n"
          ]
        }
      ]
    },
    {
      "cell_type": "code",
      "metadata": {
        "id": "yEnfbJ5fZ3gq",
        "colab": {
          "base_uri": "https://localhost:8080/",
          "height": 497
        },
        "outputId": "3c778ffa-4036-43a0-b3ee-56de1702490e"
      },
      "source": [
        "# Create a time series line plot for the indoor temperature records.\n",
        "import matplotlib.pyplot as plt\n",
        "\n",
        "\n",
        "plt.style.use('dark_background')\n",
        "plt.figure(figsize=(20,8))\n",
        "plt.plot(indoor_temp['noted_date'],indoor_temp['temp'])\n",
        "plt.xlabel('TIME')\n",
        "plt.ylabel('TEMPERATURE')\n",
        "\n",
        "plt.show()\n",
        "\n",
        "# pass the 'noted_date' and 'temp' columns of the indoor temperature Dataframe inside the 'plot()' function. \n"
      ],
      "execution_count": null,
      "outputs": [
        {
          "output_type": "display_data",
          "data": {
            "image/png": "[encoded data removed]",
            "text/plain": [
              "<Figure size 1440x576 with 1 Axes>"
            ]
          },
          "metadata": {}
        }
      ]
    },
    {
      "cell_type": "code",
      "metadata": {
        "id": "XYXRcAN6axgX"
      },
      "source": [
        "# Create a DataFrame for the outdoor temperature records.\n",
        "outdoor_temp = df[df['out/in'] == 'Out']"
      ],
      "execution_count": null,
      "outputs": []
    },
    {
      "cell_type": "code",
      "metadata": {
        "id": "n7ZcEf6Ja2Xo",
        "colab": {
          "base_uri": "https://localhost:8080/",
          "height": 497
        },
        "outputId": "ebee455b-d0ec-4d5c-ec7a-b7fbff418966"
      },
      "source": [
        "# Create a time series line plot for the outdoor temperature records.\n",
        "plt.style.use('dark_background')\n",
        "plt.figure(figsize=(20,8))\n",
        "plt.plot(outdoor_temp['noted_date'],outdoor_temp['temp'])\n",
        "\n",
        "plt.xlabel('TIME')\n",
        "plt.ylabel('TEMPERATURE')\n",
        "\n",
        "plt.show()\n"
      ],
      "execution_count": null,
      "outputs": [
        {
          "output_type": "display_data",
          "data": {
            "image/png": "[encoded data removed]",
            "text/plain": [
              "<Figure size 1440x576 with 1 Axes>"
            ]
          },
          "metadata": {}
        }
      ]
    },
    {
      "cell_type": "code",
      "metadata": {
        "id": "Ocq-kgdQbIcq",
        "colab": {
          "base_uri": "https://localhost:8080/",
          "height": 499
        },
        "outputId": "c3c16119-984f-42c5-dfce-5d501b6cdbee"
      },
      "source": [
        "# Compare the time series line plots for both the indoor and outdoor temperature records.\n",
        "plt.figure(figsize=(20,8))\n",
        "plt.title('COMPARISION')\n",
        "\n",
        "plt.plot(outdoor_temp['noted_date'],outdoor_temp['temp'],color='green',label = 'OUTDOOR')\n",
        "\n",
        "plt.plot(indoor_temp['noted_date'],indoor_temp['temp'],color='red',label = 'INDOOR')\n",
        "\n",
        "plt.ylabel('TEMPERATURE')\n",
        "plt.legend()\n",
        "plt.show()"
      ],
      "execution_count": null,
      "outputs": [
        {
          "output_type": "display_data",
          "data": {
            "image/png": "[encoded data removed]",
            "text/plain": [
              "<Figure size 1440x576 with 1 Axes>"
            ]
          },
          "metadata": {}
        }
      ]
    },
    {
      "cell_type": "code",
      "metadata": {
        "id": "iYmjbmvsod5d",
        "colab": {
          "base_uri": "https://localhost:8080/",
          "height": 497
        },
        "outputId": "2e912e39-0658-4403-ebde-284416790439"
      },
      "source": [
        "# Create a box plot to represent the distribution of indoor and outdoor temperatures for the whole year.\n",
        "import seaborn as sns\n",
        "plt.figure(figsize=(20,8))\n",
        "sns.boxplot(x='out/in',y='temp',data = df)\n",
        "plt.show()\n",
        "# pass the 'out/in' and 'temp' columns inside the 'x' and 'y' attributes of the 'boxplot()' function.\n"
      ],
      "execution_count": null,
      "outputs": [
        {
          "output_type": "display_data",
          "data": {
            "image/png": "[encoded data removed]",
            "text/plain": [
              "<Figure size 1440x576 with 1 Axes>"
            ]
          },
          "metadata": {}
        }
      ]
    },
    {
      "cell_type": "markdown",
      "metadata": {
        "id": "t8KpqnWzwipX"
      },
      "source": [
        "---"
      ]
    },
    {
      "cell_type": "markdown",
      "metadata": {
        "id": "iDocSROFw6w-"
      },
      "source": [
        "#### 8. Grouping, Aggregation, and Bar Plots\n",
        "\n",
        "Group the data by the indoor and outdoor temperatures. Also, get monthly mean, standard deviation, median, minimum and maximum values for both the indoor and outdoor groups.\n"
      ]
    },
    {
      "cell_type": "code",
      "metadata": {
        "id": "GRUIeXRTTXyT",
        "colab": {
          "base_uri": "https://localhost:8080/",
          "height": 481
        },
        "outputId": "4c6c86e5-560a-4f50-ca52-ece63d92bfe5"
      },
      "source": [
        "# Get the maximum and minimum temperatures for each day in each month.\n",
        "df.groupby(by=['MONTH', 'DAY']).agg(func={'temp' : ['max', 'min']})"
      ],
      "execution_count": null,
      "outputs": [
        {
          "output_type": "execute_result",
          "data": {
            "text/html": [
              "<div>\n",
              "<style scoped>\n",
              "    .dataframe tbody tr th:only-of-type {\n",
              "        vertical-align: middle;\n",
              "    }\n",
              "\n",
              "    .dataframe tbody tr th {\n",
              "        vertical-align: top;\n",
              "    }\n",
              "\n",
              "    .dataframe thead tr th {\n",
              "        text-align: left;\n",
              "    }\n",
              "\n",
              "    .dataframe thead tr:last-of-type th {\n",
              "        text-align: right;\n",
              "    }\n",
              "</style>\n",
              "<table border=\"1\" class=\"dataframe\">\n",
              "  <thead>\n",
              "    <tr>\n",
              "      <th></th>\n",
              "      <th></th>\n",
              "      <th colspan=\"2\" halign=\"left\">temp</th>\n",
              "    </tr>\n",
              "    <tr>\n",
              "      <th></th>\n",
              "      <th></th>\n",
              "      <th>max</th>\n",
              "      <th>min</th>\n",
              "    </tr>\n",
              "    <tr>\n",
              "      <th>MONTH</th>\n",
              "      <th>DAY</th>\n",
              "      <th></th>\n",
              "      <th></th>\n",
              "    </tr>\n",
              "  </thead>\n",
              "  <tbody>\n",
              "    <tr>\n",
              "      <th rowspan=\"2\" valign=\"top\">1</th>\n",
              "      <th>11</th>\n",
              "      <td>48</td>\n",
              "      <td>29</td>\n",
              "    </tr>\n",
              "    <tr>\n",
              "      <th>12</th>\n",
              "      <td>43</td>\n",
              "      <td>34</td>\n",
              "    </tr>\n",
              "    <tr>\n",
              "      <th rowspan=\"3\" valign=\"top\">2</th>\n",
              "      <th>8</th>\n",
              "      <td>35</td>\n",
              "      <td>31</td>\n",
              "    </tr>\n",
              "    <tr>\n",
              "      <th>11</th>\n",
              "      <td>48</td>\n",
              "      <td>30</td>\n",
              "    </tr>\n",
              "    <tr>\n",
              "      <th>12</th>\n",
              "      <td>42</td>\n",
              "      <td>32</td>\n",
              "    </tr>\n",
              "    <tr>\n",
              "      <th>...</th>\n",
              "      <th>...</th>\n",
              "      <td>...</td>\n",
              "      <td>...</td>\n",
              "    </tr>\n",
              "    <tr>\n",
              "      <th rowspan=\"3\" valign=\"top\">11</th>\n",
              "      <th>28</th>\n",
              "      <td>43</td>\n",
              "      <td>25</td>\n",
              "    </tr>\n",
              "    <tr>\n",
              "      <th>29</th>\n",
              "      <td>43</td>\n",
              "      <td>33</td>\n",
              "    </tr>\n",
              "    <tr>\n",
              "      <th>30</th>\n",
              "      <td>44</td>\n",
              "      <td>34</td>\n",
              "    </tr>\n",
              "    <tr>\n",
              "      <th rowspan=\"2\" valign=\"top\">12</th>\n",
              "      <th>9</th>\n",
              "      <td>35</td>\n",
              "      <td>26</td>\n",
              "    </tr>\n",
              "    <tr>\n",
              "      <th>10</th>\n",
              "      <td>49</td>\n",
              "      <td>30</td>\n",
              "    </tr>\n",
              "  </tbody>\n",
              "</table>\n",
              "<p>86 rows × 2 columns</p>\n",
              "</div>"
            ],
            "text/plain": [
              "          temp    \n",
              "           max min\n",
              "MONTH DAY         \n",
              "1     11    48  29\n",
              "      12    43  34\n",
              "2     8     35  31\n",
              "      11    48  30\n",
              "      12    42  32\n",
              "...        ...  ..\n",
              "11    28    43  25\n",
              "      29    43  33\n",
              "      30    44  34\n",
              "12    9     35  26\n",
              "      10    49  30\n",
              "\n",
              "[86 rows x 2 columns]"
            ]
          },
          "metadata": {},
          "execution_count": 18
        }
      ]
    },
    {
      "cell_type": "code",
      "metadata": {
        "id": "ODcVxBuv4vjT",
        "colab": {
          "base_uri": "https://localhost:8080/",
          "height": 497
        },
        "outputId": "4e6f3261-acb1-4cd8-c446-c322bf91b1c0"
      },
      "source": [
        "# Create a bar plot for the monthly median indoor & outdoor temperatures in a single bar chart.\n",
        "# Store the month names in a list i.e the labels of the x-axis\n",
        "month_name = ['JAN','FEB','MARCH','APRIL','MAY','JUNE','JULY','AUGUST','SEPT','OCT','NOV','DEC']\n",
        "\n",
        "# Import 'median' from the 'numpy' module  \n",
        "from numpy import median\n",
        "# Pass 'month', 'temp' and 'out/in' columns inside the 'x', 'y' and 'hue' parameters of the 'baplot()' function\n",
        "# Set the 'estimator' attribute with 'median' value\n",
        "plt.figure(figsize=(20,8))\n",
        "sns.barplot(x='MONTH',y = 'temp' ,hue='out/in',data = df,estimator = median)\n",
        "plt.xticks(ticks = np.arange(12),labels = month_name)\n",
        "plt.show()\n",
        "# pass the list holding the name of months inside the 'xticks()' function\n",
        "# set 'ticks=np.arrange(12)'\n"
      ],
      "execution_count": null,
      "outputs": [
        {
          "output_type": "display_data",
          "data": {
            "image/png": "[encoded data removed]",
            "text/plain": [
              "<Figure size 1440x576 with 1 Axes>"
            ]
          },
          "metadata": {}
        }
      ]
    },
    {
      "cell_type": "markdown",
      "metadata": {
        "id": "MPYWOK195Db5"
      },
      "source": [
        "---"
      ]
    },
    {
      "cell_type": "code",
      "metadata": {
        "id": "8YcJwHCyysyj",
        "colab": {
          "base_uri": "https://localhost:8080/"
        },
        "outputId": "270a0332-a43a-45ce-cf49-eedfb2ce970c"
      },
      "source": [
        "# Function to label each temperature value on a given day and time with the heat indices as advised in the data-description.\n",
        "def heat_index(temp_series):\n",
        "  heat_index_list = []\n",
        "  for temp in temp_series:\n",
        "    if temp <= 32:\n",
        "      heat_index_list.append('Green')\n",
        "    elif (temp > 32) and (temp <= 41):\n",
        "      heat_index_list.append('Yellow')\n",
        "    elif (temp > 41) and (temp <= 54):\n",
        "      heat_index_list.append('Orange')\n",
        "    else:\n",
        "      heat_index_list.append('Red')\n",
        "  return pd.Series(data=heat_index_list, index=temp_series.index)\n",
        "\n",
        "heat_index(df['temp'])"
      ],
      "execution_count": null,
      "outputs": [
        {
          "output_type": "execute_result",
          "data": {
            "text/plain": [
              "0         Green\n",
              "1         Green\n",
              "2        Yellow\n",
              "3        Yellow\n",
              "4         Green\n",
              "          ...  \n",
              "97601     Green\n",
              "97602     Green\n",
              "97603     Green\n",
              "97604     Green\n",
              "97605     Green\n",
              "Length: 97606, dtype: object"
            ]
          },
          "metadata": {},
          "execution_count": 52
        }
      ]
    },
    {
      "cell_type": "code",
      "metadata": {
        "id": "XkKWAyED07kQ",
        "colab": {
          "base_uri": "https://localhost:8080/",
          "height": 204
        },
        "outputId": "61a7271d-6c44-4c73-e358-26b9c68d4518"
      },
      "source": [
        "# Add the 'heat_index' column in the DataFrame containing the heat indices corresponding to the temperature values on a given day and time.\n",
        "df['heat_index'] = heat_index(df['temp'])\n",
        "df.head()"
      ],
      "execution_count": null,
      "outputs": [
        {
          "output_type": "execute_result",
          "data": {
            "text/html": [
              "<div>\n",
              "<style scoped>\n",
              "    .dataframe tbody tr th:only-of-type {\n",
              "        vertical-align: middle;\n",
              "    }\n",
              "\n",
              "    .dataframe tbody tr th {\n",
              "        vertical-align: top;\n",
              "    }\n",
              "\n",
              "    .dataframe thead th {\n",
              "        text-align: right;\n",
              "    }\n",
              "</style>\n",
              "<table border=\"1\" class=\"dataframe\">\n",
              "  <thead>\n",
              "    <tr style=\"text-align: right;\">\n",
              "      <th></th>\n",
              "      <th>noted_date</th>\n",
              "      <th>temp</th>\n",
              "      <th>out/in</th>\n",
              "      <th>YEAR</th>\n",
              "      <th>MONTH</th>\n",
              "      <th>DAY</th>\n",
              "      <th>DAY_NAME</th>\n",
              "      <th>MINUTES</th>\n",
              "      <th>HOUR</th>\n",
              "      <th>heat_index</th>\n",
              "    </tr>\n",
              "  </thead>\n",
              "  <tbody>\n",
              "    <tr>\n",
              "      <th>0</th>\n",
              "      <td>2018-08-12 09:30:00</td>\n",
              "      <td>29</td>\n",
              "      <td>In</td>\n",
              "      <td>2018</td>\n",
              "      <td>8</td>\n",
              "      <td>12</td>\n",
              "      <td>Sunday</td>\n",
              "      <td>30</td>\n",
              "      <td>9</td>\n",
              "      <td>Green</td>\n",
              "    </tr>\n",
              "    <tr>\n",
              "      <th>1</th>\n",
              "      <td>2018-08-12 09:30:00</td>\n",
              "      <td>29</td>\n",
              "      <td>In</td>\n",
              "      <td>2018</td>\n",
              "      <td>8</td>\n",
              "      <td>12</td>\n",
              "      <td>Sunday</td>\n",
              "      <td>30</td>\n",
              "      <td>9</td>\n",
              "      <td>Green</td>\n",
              "    </tr>\n",
              "    <tr>\n",
              "      <th>2</th>\n",
              "      <td>2018-08-12 09:29:00</td>\n",
              "      <td>41</td>\n",
              "      <td>Out</td>\n",
              "      <td>2018</td>\n",
              "      <td>8</td>\n",
              "      <td>12</td>\n",
              "      <td>Sunday</td>\n",
              "      <td>29</td>\n",
              "      <td>9</td>\n",
              "      <td>Yellow</td>\n",
              "    </tr>\n",
              "    <tr>\n",
              "      <th>3</th>\n",
              "      <td>2018-08-12 09:29:00</td>\n",
              "      <td>41</td>\n",
              "      <td>Out</td>\n",
              "      <td>2018</td>\n",
              "      <td>8</td>\n",
              "      <td>12</td>\n",
              "      <td>Sunday</td>\n",
              "      <td>29</td>\n",
              "      <td>9</td>\n",
              "      <td>Yellow</td>\n",
              "    </tr>\n",
              "    <tr>\n",
              "      <th>4</th>\n",
              "      <td>2018-08-12 09:29:00</td>\n",
              "      <td>31</td>\n",
              "      <td>In</td>\n",
              "      <td>2018</td>\n",
              "      <td>8</td>\n",
              "      <td>12</td>\n",
              "      <td>Sunday</td>\n",
              "      <td>29</td>\n",
              "      <td>9</td>\n",
              "      <td>Green</td>\n",
              "    </tr>\n",
              "  </tbody>\n",
              "</table>\n",
              "</div>"
            ],
            "text/plain": [
              "           noted_date  temp out/in  YEAR  ...  DAY_NAME  MINUTES HOUR  heat_index\n",
              "0 2018-08-12 09:30:00    29     In  2018  ...    Sunday       30    9       Green\n",
              "1 2018-08-12 09:30:00    29     In  2018  ...    Sunday       30    9       Green\n",
              "2 2018-08-12 09:29:00    41    Out  2018  ...    Sunday       29    9      Yellow\n",
              "3 2018-08-12 09:29:00    41    Out  2018  ...    Sunday       29    9      Yellow\n",
              "4 2018-08-12 09:29:00    31     In  2018  ...    Sunday       29    9       Green\n",
              "\n",
              "[5 rows x 10 columns]"
            ]
          },
          "metadata": {},
          "execution_count": 53
        }
      ]
    },
    {
      "cell_type": "code",
      "metadata": {
        "id": "JZJU1E9-1uMx",
        "colab": {
          "base_uri": "https://localhost:8080/",
          "height": 266
        },
        "outputId": "abd6f5e9-3528-4e2c-fb58-ae8b3d125ec8"
      },
      "source": [
        "# Counts of the heat zones.\n",
        "group_heat_index = df.groupby(by=['heat_index', 'out/in'])\n",
        "heat_index_agg = group_heat_index.agg(func={'temp' : ['max', 'count']})\n",
        "heat_index_agg"
      ],
      "execution_count": null,
      "outputs": [
        {
          "output_type": "execute_result",
          "data": {
            "text/html": [
              "<div>\n",
              "<style scoped>\n",
              "    .dataframe tbody tr th:only-of-type {\n",
              "        vertical-align: middle;\n",
              "    }\n",
              "\n",
              "    .dataframe tbody tr th {\n",
              "        vertical-align: top;\n",
              "    }\n",
              "\n",
              "    .dataframe thead tr th {\n",
              "        text-align: left;\n",
              "    }\n",
              "\n",
              "    .dataframe thead tr:last-of-type th {\n",
              "        text-align: right;\n",
              "    }\n",
              "</style>\n",
              "<table border=\"1\" class=\"dataframe\">\n",
              "  <thead>\n",
              "    <tr>\n",
              "      <th></th>\n",
              "      <th></th>\n",
              "      <th colspan=\"2\" halign=\"left\">temp</th>\n",
              "    </tr>\n",
              "    <tr>\n",
              "      <th></th>\n",
              "      <th></th>\n",
              "      <th>max</th>\n",
              "      <th>count</th>\n",
              "    </tr>\n",
              "    <tr>\n",
              "      <th>heat_index</th>\n",
              "      <th>out/in</th>\n",
              "      <th></th>\n",
              "      <th></th>\n",
              "    </tr>\n",
              "  </thead>\n",
              "  <tbody>\n",
              "    <tr>\n",
              "      <th rowspan=\"2\" valign=\"top\">Green</th>\n",
              "      <th>In</th>\n",
              "      <td>32</td>\n",
              "      <td>16812</td>\n",
              "    </tr>\n",
              "    <tr>\n",
              "      <th>Out</th>\n",
              "      <td>32</td>\n",
              "      <td>24845</td>\n",
              "    </tr>\n",
              "    <tr>\n",
              "      <th>Orange</th>\n",
              "      <th>Out</th>\n",
              "      <td>51</td>\n",
              "      <td>12407</td>\n",
              "    </tr>\n",
              "    <tr>\n",
              "      <th rowspan=\"2\" valign=\"top\">Yellow</th>\n",
              "      <th>In</th>\n",
              "      <td>41</td>\n",
              "      <td>3533</td>\n",
              "    </tr>\n",
              "    <tr>\n",
              "      <th>Out</th>\n",
              "      <td>41</td>\n",
              "      <td>40009</td>\n",
              "    </tr>\n",
              "  </tbody>\n",
              "</table>\n",
              "</div>"
            ],
            "text/plain": [
              "                  temp       \n",
              "                   max  count\n",
              "heat_index out/in            \n",
              "Green      In       32  16812\n",
              "           Out      32  24845\n",
              "Orange     Out      51  12407\n",
              "Yellow     In       41   3533\n",
              "           Out      41  40009"
            ]
          },
          "metadata": {},
          "execution_count": 54
        }
      ]
    },
    {
      "cell_type": "code",
      "metadata": {
        "id": "bdpF6kfRj_MI",
        "colab": {
          "base_uri": "https://localhost:8080/"
        },
        "outputId": "0606fbfb-7c6f-443c-f88c-64e6d14ce653"
      },
      "source": [
        "heat_index_agg.columns"
      ],
      "execution_count": null,
      "outputs": [
        {
          "output_type": "execute_result",
          "data": {
            "text/plain": [
              "MultiIndex([('temp',   'max'),\n",
              "            ('temp', 'count')],\n",
              "           )"
            ]
          },
          "metadata": {},
          "execution_count": 55
        }
      ]
    },
    {
      "cell_type": "code",
      "metadata": {
        "id": "1qFPD1VikMVr",
        "colab": {
          "base_uri": "https://localhost:8080/",
          "height": 266
        },
        "outputId": "f7cf1418-713a-4dfb-e529-7b0321cbe36c"
      },
      "source": [
        "# Percentage distribution of the heat zones.\n",
        "heat_index_agg[('temp', 'percent')] = heat_index_agg[('temp', 'count')] * 100 / df.shape[0]\n",
        "heat_index_agg"
      ],
      "execution_count": null,
      "outputs": [
        {
          "output_type": "execute_result",
          "data": {
            "text/html": [
              "<div>\n",
              "<style scoped>\n",
              "    .dataframe tbody tr th:only-of-type {\n",
              "        vertical-align: middle;\n",
              "    }\n",
              "\n",
              "    .dataframe tbody tr th {\n",
              "        vertical-align: top;\n",
              "    }\n",
              "\n",
              "    .dataframe thead tr th {\n",
              "        text-align: left;\n",
              "    }\n",
              "\n",
              "    .dataframe thead tr:last-of-type th {\n",
              "        text-align: right;\n",
              "    }\n",
              "</style>\n",
              "<table border=\"1\" class=\"dataframe\">\n",
              "  <thead>\n",
              "    <tr>\n",
              "      <th></th>\n",
              "      <th></th>\n",
              "      <th colspan=\"3\" halign=\"left\">temp</th>\n",
              "    </tr>\n",
              "    <tr>\n",
              "      <th></th>\n",
              "      <th></th>\n",
              "      <th>max</th>\n",
              "      <th>count</th>\n",
              "      <th>percent</th>\n",
              "    </tr>\n",
              "    <tr>\n",
              "      <th>heat_index</th>\n",
              "      <th>out/in</th>\n",
              "      <th></th>\n",
              "      <th></th>\n",
              "      <th></th>\n",
              "    </tr>\n",
              "  </thead>\n",
              "  <tbody>\n",
              "    <tr>\n",
              "      <th rowspan=\"2\" valign=\"top\">Green</th>\n",
              "      <th>In</th>\n",
              "      <td>32</td>\n",
              "      <td>16812</td>\n",
              "      <td>17.224351</td>\n",
              "    </tr>\n",
              "    <tr>\n",
              "      <th>Out</th>\n",
              "      <td>32</td>\n",
              "      <td>24845</td>\n",
              "      <td>25.454378</td>\n",
              "    </tr>\n",
              "    <tr>\n",
              "      <th>Orange</th>\n",
              "      <th>Out</th>\n",
              "      <td>51</td>\n",
              "      <td>12407</td>\n",
              "      <td>12.711309</td>\n",
              "    </tr>\n",
              "    <tr>\n",
              "      <th rowspan=\"2\" valign=\"top\">Yellow</th>\n",
              "      <th>In</th>\n",
              "      <td>41</td>\n",
              "      <td>3533</td>\n",
              "      <td>3.619655</td>\n",
              "    </tr>\n",
              "    <tr>\n",
              "      <th>Out</th>\n",
              "      <td>41</td>\n",
              "      <td>40009</td>\n",
              "      <td>40.990308</td>\n",
              "    </tr>\n",
              "  </tbody>\n",
              "</table>\n",
              "</div>"
            ],
            "text/plain": [
              "                  temp                  \n",
              "                   max  count    percent\n",
              "heat_index out/in                       \n",
              "Green      In       32  16812  17.224351\n",
              "           Out      32  24845  25.454378\n",
              "Orange     Out      51  12407  12.711309\n",
              "Yellow     In       41   3533   3.619655\n",
              "           Out      41  40009  40.990308"
            ]
          },
          "metadata": {},
          "execution_count": 56
        }
      ]
    },
    {
      "cell_type": "markdown",
      "metadata": {
        "id": "l9AIqrUWyFCk"
      },
      "source": [
        "Hence, we can conclude that, Yellow zone has the most number of recordings, that is, nearly 41%."
      ]
    },
    {
      "cell_type": "markdown",
      "metadata": {
        "id": "bXpq2A9PYzwL"
      },
      "source": [
        "---"
      ]
    },
    {
      "cell_type": "markdown",
      "metadata": {
        "id": "dCyk5E58TEEA"
      },
      "source": [
        "---"
      ]
    }
  ]
}